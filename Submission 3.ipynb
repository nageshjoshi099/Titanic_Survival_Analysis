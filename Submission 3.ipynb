{
 "cells": [
  {
   "cell_type": "markdown",
   "metadata": {},
   "source": [
    "#### The document aims to answer question:\n",
    "## What factors made people more likely to survive during the crash of the titanic ship?\n",
    "To attain the objective using the given the data set, the target question was broken down into the following questions. Each of the following questions in several ways contributes to answering the target question.\n",
    "#### Question 1: What was the relationship between age and survival? In other words what age group was more likely to survive the sinking Titanic.\n",
    "#### Question 2:  What was the relationship between gender and survival? In other words what gender group was more likely to survive the sinking Titanic.\n",
    "#### Question 3:  When considered together (age and gender), which gender belonging to which age groups are more likely to survive?\n",
    "#### Question 4: What effect does the passengers's class (also indicating social demographic status) have on his survival?\n",
    "#### Question 5: Within the class who were more likely to survive based on the ticket fares?"
   ]
  },
  {
   "cell_type": "code",
   "execution_count": 1,
   "metadata": {
    "collapsed": false
   },
   "outputs": [
    {
     "name": "stdout",
     "output_type": "stream",
     "text": [
      "Populating the interactive namespace from numpy and matplotlib\n"
     ]
    }
   ],
   "source": [
    "%pylab inline\n",
    "import pandas as pd\n",
    "import numpy as np\n",
    "import seaborn as sn\n",
    "import matplotlib.pyplot as plt\n",
    "from scipy import stats"
   ]
  },
  {
   "cell_type": "code",
   "execution_count": 2,
   "metadata": {
    "collapsed": false
   },
   "outputs": [
    {
     "name": "stdout",
     "output_type": "stream",
     "text": [
      "<class 'pandas.core.frame.DataFrame'>\n",
      "RangeIndex: 891 entries, 0 to 890\n",
      "Data columns (total 12 columns):\n",
      "PassengerId    891 non-null int64\n",
      "Survived       891 non-null int64\n",
      "Pclass         891 non-null int64\n",
      "Name           891 non-null object\n",
      "Sex            891 non-null object\n",
      "Age            714 non-null float64\n",
      "SibSp          891 non-null int64\n",
      "Parch          891 non-null int64\n",
      "Ticket         891 non-null object\n",
      "Fare           891 non-null float64\n",
      "Cabin          204 non-null object\n",
      "Embarked       889 non-null object\n",
      "dtypes: float64(2), int64(5), object(5)\n",
      "memory usage: 83.6+ KB\n"
     ]
    }
   ],
   "source": [
    "file_df = pd.read_csv(\"titanic-data.csv\")\n",
    "\"The original dataset contains the following columns with multiple missing values\"\n",
    "file_df.info()"
   ]
  },
  {
   "cell_type": "code",
   "execution_count": 3,
   "metadata": {
    "collapsed": false
   },
   "outputs": [
    {
     "data": {
      "text/html": [
       "<div>\n",
       "<table border=\"1\" class=\"dataframe\">\n",
       "  <thead>\n",
       "    <tr style=\"text-align: right;\">\n",
       "      <th></th>\n",
       "      <th>PassengerId</th>\n",
       "      <th>Survived</th>\n",
       "      <th>Pclass</th>\n",
       "      <th>Name</th>\n",
       "      <th>Sex</th>\n",
       "      <th>Age</th>\n",
       "      <th>SibSp</th>\n",
       "      <th>Parch</th>\n",
       "      <th>Ticket</th>\n",
       "      <th>Fare</th>\n",
       "      <th>Cabin</th>\n",
       "      <th>Embarked</th>\n",
       "    </tr>\n",
       "  </thead>\n",
       "  <tbody>\n",
       "    <tr>\n",
       "      <th>0</th>\n",
       "      <td>1</td>\n",
       "      <td>0</td>\n",
       "      <td>3</td>\n",
       "      <td>Braund, Mr. Owen Harris</td>\n",
       "      <td>male</td>\n",
       "      <td>22.0</td>\n",
       "      <td>1</td>\n",
       "      <td>0</td>\n",
       "      <td>A/5 21171</td>\n",
       "      <td>7.2500</td>\n",
       "      <td>NaN</td>\n",
       "      <td>S</td>\n",
       "    </tr>\n",
       "    <tr>\n",
       "      <th>1</th>\n",
       "      <td>2</td>\n",
       "      <td>1</td>\n",
       "      <td>1</td>\n",
       "      <td>Cumings, Mrs. John Bradley (Florence Briggs Th...</td>\n",
       "      <td>female</td>\n",
       "      <td>38.0</td>\n",
       "      <td>1</td>\n",
       "      <td>0</td>\n",
       "      <td>PC 17599</td>\n",
       "      <td>71.2833</td>\n",
       "      <td>C85</td>\n",
       "      <td>C</td>\n",
       "    </tr>\n",
       "    <tr>\n",
       "      <th>2</th>\n",
       "      <td>3</td>\n",
       "      <td>1</td>\n",
       "      <td>3</td>\n",
       "      <td>Heikkinen, Miss. Laina</td>\n",
       "      <td>female</td>\n",
       "      <td>26.0</td>\n",
       "      <td>0</td>\n",
       "      <td>0</td>\n",
       "      <td>STON/O2. 3101282</td>\n",
       "      <td>7.9250</td>\n",
       "      <td>NaN</td>\n",
       "      <td>S</td>\n",
       "    </tr>\n",
       "    <tr>\n",
       "      <th>3</th>\n",
       "      <td>4</td>\n",
       "      <td>1</td>\n",
       "      <td>1</td>\n",
       "      <td>Futrelle, Mrs. Jacques Heath (Lily May Peel)</td>\n",
       "      <td>female</td>\n",
       "      <td>35.0</td>\n",
       "      <td>1</td>\n",
       "      <td>0</td>\n",
       "      <td>113803</td>\n",
       "      <td>53.1000</td>\n",
       "      <td>C123</td>\n",
       "      <td>S</td>\n",
       "    </tr>\n",
       "    <tr>\n",
       "      <th>4</th>\n",
       "      <td>5</td>\n",
       "      <td>0</td>\n",
       "      <td>3</td>\n",
       "      <td>Allen, Mr. William Henry</td>\n",
       "      <td>male</td>\n",
       "      <td>35.0</td>\n",
       "      <td>0</td>\n",
       "      <td>0</td>\n",
       "      <td>373450</td>\n",
       "      <td>8.0500</td>\n",
       "      <td>NaN</td>\n",
       "      <td>S</td>\n",
       "    </tr>\n",
       "  </tbody>\n",
       "</table>\n",
       "</div>"
      ],
      "text/plain": [
       "   PassengerId  Survived  Pclass  \\\n",
       "0            1         0       3   \n",
       "1            2         1       1   \n",
       "2            3         1       3   \n",
       "3            4         1       1   \n",
       "4            5         0       3   \n",
       "\n",
       "                                                Name     Sex   Age  SibSp  \\\n",
       "0                            Braund, Mr. Owen Harris    male  22.0      1   \n",
       "1  Cumings, Mrs. John Bradley (Florence Briggs Th...  female  38.0      1   \n",
       "2                             Heikkinen, Miss. Laina  female  26.0      0   \n",
       "3       Futrelle, Mrs. Jacques Heath (Lily May Peel)  female  35.0      1   \n",
       "4                           Allen, Mr. William Henry    male  35.0      0   \n",
       "\n",
       "   Parch            Ticket     Fare Cabin Embarked  \n",
       "0      0         A/5 21171   7.2500   NaN        S  \n",
       "1      0          PC 17599  71.2833   C85        C  \n",
       "2      0  STON/O2. 3101282   7.9250   NaN        S  \n",
       "3      0            113803  53.1000  C123        S  \n",
       "4      0            373450   8.0500   NaN        S  "
      ]
     },
     "execution_count": 3,
     "metadata": {},
     "output_type": "execute_result"
    }
   ],
   "source": [
    "file_df.head()"
   ]
  },
  {
   "cell_type": "markdown",
   "metadata": {},
   "source": [
    "# Age Factor\n",
    "##### An attemp to answer the question 1"
   ]
  },
  {
   "cell_type": "code",
   "execution_count": 4,
   "metadata": {
    "collapsed": false
   },
   "outputs": [],
   "source": [
    "\"\"\"\"The age_group_code() is used to assign age groups to the data frame\"\"\"\n",
    "def age_group_code(num):\n",
    "    if num>=0 and num<10:\n",
    "        return \"0-9\"\n",
    "    if num>=10 and num<20:\n",
    "        return \"10-19\"\n",
    "    if num>=20 and num<30:\n",
    "        return \"20-29\"\n",
    "    if num>=30 and num<40:\n",
    "        return \"30-39\"\n",
    "    if num>=40 and num<50:\n",
    "        return \"40-49\"\n",
    "    if num>=50 and num<60:\n",
    "        return \"50-59\"\n",
    "    if num>=60 and num<70:\n",
    "        return \"60-69\"\n",
    "    if num>=70 and num<80:\n",
    "        return \"70-79\"\n",
    "    if num>=80:\n",
    "        return \"80+\""
   ]
  },
  {
   "cell_type": "code",
   "execution_count": 29,
   "metadata": {
    "collapsed": false,
    "scrolled": true
   },
   "outputs": [
    {
     "data": {
      "text/html": [
       "<div>\n",
       "<table border=\"1\" class=\"dataframe\">\n",
       "  <thead>\n",
       "    <tr style=\"text-align: right;\">\n",
       "      <th></th>\n",
       "      <th>Survived</th>\n",
       "      <th>Age</th>\n",
       "      <th>Age Groups</th>\n",
       "      <th>Counts</th>\n",
       "    </tr>\n",
       "  </thead>\n",
       "  <tbody>\n",
       "    <tr>\n",
       "      <th>0</th>\n",
       "      <td>0</td>\n",
       "      <td>22.0</td>\n",
       "      <td>20-29</td>\n",
       "      <td>1</td>\n",
       "    </tr>\n",
       "    <tr>\n",
       "      <th>1</th>\n",
       "      <td>1</td>\n",
       "      <td>38.0</td>\n",
       "      <td>30-39</td>\n",
       "      <td>1</td>\n",
       "    </tr>\n",
       "    <tr>\n",
       "      <th>2</th>\n",
       "      <td>1</td>\n",
       "      <td>26.0</td>\n",
       "      <td>20-29</td>\n",
       "      <td>1</td>\n",
       "    </tr>\n",
       "    <tr>\n",
       "      <th>3</th>\n",
       "      <td>1</td>\n",
       "      <td>35.0</td>\n",
       "      <td>30-39</td>\n",
       "      <td>1</td>\n",
       "    </tr>\n",
       "    <tr>\n",
       "      <th>4</th>\n",
       "      <td>0</td>\n",
       "      <td>35.0</td>\n",
       "      <td>30-39</td>\n",
       "      <td>1</td>\n",
       "    </tr>\n",
       "  </tbody>\n",
       "</table>\n",
       "</div>"
      ],
      "text/plain": [
       "   Survived   Age Age Groups  Counts\n",
       "0         0  22.0      20-29       1\n",
       "1         1  38.0      30-39       1\n",
       "2         1  26.0      20-29       1\n",
       "3         1  35.0      30-39       1\n",
       "4         0  35.0      30-39       1"
      ]
     },
     "execution_count": 29,
     "metadata": {},
     "output_type": "execute_result"
    }
   ],
   "source": [
    "\"\"\"Adding a Age Group Column and Counts(Use of this will be required when we group the data) to the dataframe\n",
    "Using of applymap() to determine the age groups\n",
    "using dropna to drop those columns without age vale\"\"\"\n",
    "\n",
    "age_survival_df = file_df[[\"Survived\",\"Age\"]]\n",
    "age_survival_df.loc[:,('Age Groups')] = age_survival_df.loc[:,('Age')]\n",
    "age_survival_df.loc[:,('Counts')] = 1\n",
    "age_survival_df[[\"Age Groups\"]] = age_survival_df[[\"Age Groups\"]].applymap(age_group_code)\n",
    "age_survival_df = age_survival_df.dropna(how=\"any\", axis=0)\n",
    "age_survival_df.head()"
   ]
  },
  {
   "cell_type": "markdown",
   "metadata": {},
   "source": [
    "### Data Cleaning procedure 1\n",
    "The data used for further analysis under the \"Age Factor session\" has been cleaned above. The age column contained 177 missing values. These have been eliminated using the dropna function of the pandas. The relevant cleaned dataset (age_survival_df) has the following properties."
   ]
  },
  {
   "cell_type": "code",
   "execution_count": 6,
   "metadata": {
    "collapsed": false
   },
   "outputs": [
    {
     "name": "stdout",
     "output_type": "stream",
     "text": [
      "<class 'pandas.core.frame.DataFrame'>\n",
      "Int64Index: 714 entries, 0 to 890\n",
      "Data columns (total 4 columns):\n",
      "Survived      714 non-null int64\n",
      "Age           714 non-null float64\n",
      "Age Groups    714 non-null object\n",
      "Counts        714 non-null int64\n",
      "dtypes: float64(1), int64(2), object(1)\n",
      "memory usage: 27.9+ KB\n"
     ]
    }
   ],
   "source": [
    "\"\"\"The cleaned dataset now contains just 4 columns\"\"\"\n",
    "age_survival_df.info()"
   ]
  },
  {
   "cell_type": "code",
   "execution_count": 7,
   "metadata": {
    "collapsed": false
   },
   "outputs": [
    {
     "data": {
      "text/html": [
       "<div>\n",
       "<table border=\"1\" class=\"dataframe\">\n",
       "  <thead>\n",
       "    <tr style=\"text-align: right;\">\n",
       "      <th></th>\n",
       "      <th>Age Groups</th>\n",
       "      <th>Survived</th>\n",
       "      <th>Counts</th>\n",
       "    </tr>\n",
       "  </thead>\n",
       "  <tbody>\n",
       "    <tr>\n",
       "      <th>0</th>\n",
       "      <td>0-9</td>\n",
       "      <td>0</td>\n",
       "      <td>24</td>\n",
       "    </tr>\n",
       "    <tr>\n",
       "      <th>1</th>\n",
       "      <td>0-9</td>\n",
       "      <td>1</td>\n",
       "      <td>38</td>\n",
       "    </tr>\n",
       "    <tr>\n",
       "      <th>2</th>\n",
       "      <td>10-19</td>\n",
       "      <td>0</td>\n",
       "      <td>61</td>\n",
       "    </tr>\n",
       "    <tr>\n",
       "      <th>3</th>\n",
       "      <td>10-19</td>\n",
       "      <td>1</td>\n",
       "      <td>41</td>\n",
       "    </tr>\n",
       "    <tr>\n",
       "      <th>4</th>\n",
       "      <td>20-29</td>\n",
       "      <td>0</td>\n",
       "      <td>143</td>\n",
       "    </tr>\n",
       "  </tbody>\n",
       "</table>\n",
       "</div>"
      ],
      "text/plain": [
       "  Age Groups  Survived  Counts\n",
       "0        0-9         0      24\n",
       "1        0-9         1      38\n",
       "2      10-19         0      61\n",
       "3      10-19         1      41\n",
       "4      20-29         0     143"
      ]
     },
     "execution_count": 7,
     "metadata": {},
     "output_type": "execute_result"
    }
   ],
   "source": [
    "\"\"\"Grouping according to the Age group and Survived column\n",
    "The age column is irrelevant\"\"\"\n",
    "age_survival_grouped = age_survival_df.groupby([\"Age Groups\",\"Survived\"], as_index=False)[\"Counts\"].sum()\n",
    "age_survival_grouped.head()"
   ]
  },
  {
   "cell_type": "code",
   "execution_count": 8,
   "metadata": {
    "collapsed": true
   },
   "outputs": [],
   "source": [
    "\"\"\"Box Plots for data\"\"\"\n",
    "def plot_bar(df1,df2):\n",
    "    ind = np.arange(df1.shape[0]) \n",
    "    width = 0.35\n",
    "    fig, ax = plt.subplots()\n",
    "    rects1 = ax.bar(ind, df1[\"Counts\"], width, color='y',align=\"center\")\n",
    "    rects2 = ax.bar(ind+width/2, df2[\"Counts\"], width, color='r')\n",
    "    ax.set_ylabel('Counts')\n",
    "    ax.set_xlabel(list(df1.columns.values)[0])\n",
    "    ax.set_title('Counts of survived or dead based on '+ list(df1.columns.values)[0])\n",
    "    ax.set_xticks(ind + width/2)\n",
    "    ax.set_xticklabels(df1.ix[:,0])\n",
    "    ax.legend((rects1[0], rects2[0]), ('Survived', 'Dead'), loc=\"upper left\")\n",
    "    plt.show()\n"
   ]
  },
  {
   "cell_type": "code",
   "execution_count": 9,
   "metadata": {
    "collapsed": false
   },
   "outputs": [
    {
     "data": {
      "image/png": "[encoded data removed]",
      "text/plain": [
       "<matplotlib.figure.Figure at 0xa488048>"
      ]
     },
     "metadata": {},
     "output_type": "display_data"
    }
   ],
   "source": [
    "\"\"\"forming new data frames with each containing values of survived and dead counts, this is done for ease of plotting\"\"\"\n",
    "survived_df = age_survival_grouped[age_survival_grouped[\"Survived\"] == 1]\n",
    "dead_df = age_survival_grouped[age_survival_grouped[\"Survived\"] == 0]\n",
    "\n",
    "\"\"\"Creation of bar plots\"\"\"\n",
    "plot_bar(survived_df, dead_df)\n",
    "\n",
    "#plot_bars(survived_df, dead_df)"
   ]
  },
  {
   "cell_type": "markdown",
   "metadata": {},
   "source": [
    "#### Observation 1: \n",
    "From the above graph, it becomes particularly clear that only passengers under the age of 10 had a greater chance to survive. For all the other age groups the number of people survived were far less compared to those dead."
   ]
  },
  {
   "cell_type": "markdown",
   "metadata": {},
   "source": [
    "# Gender Factor\n",
    "##### An attempt to answer question 2"
   ]
  },
  {
   "cell_type": "code",
   "execution_count": 10,
   "metadata": {
    "collapsed": false
   },
   "outputs": [
    {
     "data": {
      "text/html": [
       "<div>\n",
       "<table border=\"1\" class=\"dataframe\">\n",
       "  <thead>\n",
       "    <tr style=\"text-align: right;\">\n",
       "      <th></th>\n",
       "      <th>Sex</th>\n",
       "      <th>Survived</th>\n",
       "      <th>Counts</th>\n",
       "    </tr>\n",
       "  </thead>\n",
       "  <tbody>\n",
       "    <tr>\n",
       "      <th>0</th>\n",
       "      <td>male</td>\n",
       "      <td>0</td>\n",
       "      <td>1</td>\n",
       "    </tr>\n",
       "    <tr>\n",
       "      <th>1</th>\n",
       "      <td>female</td>\n",
       "      <td>1</td>\n",
       "      <td>1</td>\n",
       "    </tr>\n",
       "    <tr>\n",
       "      <th>2</th>\n",
       "      <td>female</td>\n",
       "      <td>1</td>\n",
       "      <td>1</td>\n",
       "    </tr>\n",
       "    <tr>\n",
       "      <th>3</th>\n",
       "      <td>female</td>\n",
       "      <td>1</td>\n",
       "      <td>1</td>\n",
       "    </tr>\n",
       "    <tr>\n",
       "      <th>4</th>\n",
       "      <td>male</td>\n",
       "      <td>0</td>\n",
       "      <td>1</td>\n",
       "    </tr>\n",
       "  </tbody>\n",
       "</table>\n",
       "</div>"
      ],
      "text/plain": [
       "      Sex  Survived  Counts\n",
       "0    male         0       1\n",
       "1  female         1       1\n",
       "2  female         1       1\n",
       "3  female         1       1\n",
       "4    male         0       1"
      ]
     },
     "execution_count": 10,
     "metadata": {},
     "output_type": "execute_result"
    }
   ],
   "source": [
    "gender_survival_df = file_df[[\"Sex\",\"Survived\"]]\n",
    "gender_survival_df.loc[:,('Counts')] = 1\n",
    "gender_survival_df.head()"
   ]
  },
  {
   "cell_type": "code",
   "execution_count": 11,
   "metadata": {
    "collapsed": false
   },
   "outputs": [
    {
     "data": {
      "text/html": [
       "<div>\n",
       "<table border=\"1\" class=\"dataframe\">\n",
       "  <thead>\n",
       "    <tr style=\"text-align: right;\">\n",
       "      <th></th>\n",
       "      <th>Sex</th>\n",
       "      <th>Survived</th>\n",
       "      <th>Counts</th>\n",
       "    </tr>\n",
       "  </thead>\n",
       "  <tbody>\n",
       "    <tr>\n",
       "      <th>0</th>\n",
       "      <td>female</td>\n",
       "      <td>0</td>\n",
       "      <td>81</td>\n",
       "    </tr>\n",
       "    <tr>\n",
       "      <th>1</th>\n",
       "      <td>female</td>\n",
       "      <td>1</td>\n",
       "      <td>233</td>\n",
       "    </tr>\n",
       "    <tr>\n",
       "      <th>2</th>\n",
       "      <td>male</td>\n",
       "      <td>0</td>\n",
       "      <td>468</td>\n",
       "    </tr>\n",
       "    <tr>\n",
       "      <th>3</th>\n",
       "      <td>male</td>\n",
       "      <td>1</td>\n",
       "      <td>109</td>\n",
       "    </tr>\n",
       "  </tbody>\n",
       "</table>\n",
       "</div>"
      ],
      "text/plain": [
       "      Sex  Survived  Counts\n",
       "0  female         0      81\n",
       "1  female         1     233\n",
       "2    male         0     468\n",
       "3    male         1     109"
      ]
     },
     "execution_count": 11,
     "metadata": {},
     "output_type": "execute_result"
    }
   ],
   "source": [
    "\"\"\"Grouping according to the Sex and Survived column\"\"\"\n",
    "gender_survival_grouped = gender_survival_df.groupby([\"Sex\",\"Survived\"], as_index=False)[\"Counts\"].sum()\n",
    "gender_survival_grouped.head()"
   ]
  },
  {
   "cell_type": "markdown",
   "metadata": {},
   "source": [
    "### Data Cleaning procedure 2\n",
    "The data used for further analysis under the \"Gender Factor\" section has been cleaned above. The relevant contained no missing values. An additional column of counts was added which is later used to determine the relevant counts of passengers under certain conditions. The relevant cleaned dataset (age_survival_df) has the following properties."
   ]
  },
  {
   "cell_type": "code",
   "execution_count": 12,
   "metadata": {
    "collapsed": false
   },
   "outputs": [
    {
     "name": "stdout",
     "output_type": "stream",
     "text": [
      "<class 'pandas.core.frame.DataFrame'>\n",
      "Int64Index: 4 entries, 0 to 3\n",
      "Data columns (total 3 columns):\n",
      "Sex         4 non-null object\n",
      "Survived    4 non-null int64\n",
      "Counts      4 non-null int64\n",
      "dtypes: int64(2), object(1)\n",
      "memory usage: 128.0+ bytes\n"
     ]
    }
   ],
   "source": [
    "gender_survival_grouped.info()"
   ]
  },
  {
   "cell_type": "code",
   "execution_count": 13,
   "metadata": {
    "collapsed": false
   },
   "outputs": [
    {
     "data": {
      "image/png": "[encoded data removed]",
      "text/plain": [
       "<matplotlib.figure.Figure at 0xa57d6d8>"
      ]
     },
     "metadata": {},
     "output_type": "display_data"
    }
   ],
   "source": [
    "\"\"\"forming new data frames with each containing values of survived and dead counts, this is done for ease of plotting\"\"\"\n",
    "survived_gender_df = gender_survival_grouped[gender_survival_grouped[\"Survived\"] == 1]\n",
    "dead_gender_df = gender_survival_grouped[gender_survival_grouped[\"Survived\"] == 0]\n",
    "\n",
    "\"\"\"Creation of bar plots\"\"\"\n",
    "plot_bar(survived_gender_df, dead_gender_df)\n"
   ]
  },
  {
   "cell_type": "markdown",
   "metadata": {},
   "source": [
    "### Percentage of female and male survived"
   ]
  },
  {
   "cell_type": "code",
   "execution_count": 14,
   "metadata": {
    "collapsed": false
   },
   "outputs": [
    {
     "name": "stdout",
     "output_type": "stream",
     "text": [
      "74.2038216561\n",
      "18.8908145581\n"
     ]
    }
   ],
   "source": [
    "print survived_gender_df.iloc[0][2]/float(survived_gender_df.iloc[0][2]+dead_gender_df.iloc[0][2])*100\n",
    "print survived_gender_df.iloc[1][2]/float(survived_gender_df.iloc[1][2]+dead_gender_df.iloc[1][2])*100"
   ]
  },
  {
   "cell_type": "markdown",
   "metadata": {},
   "source": [
    "#### Observation 2\n",
    "Percentage of female survided = 74.2%\n",
    "Percentage of male survided = 18.9%\n",
    "The above graph and statistics make it amply clear that female gender was more likely to survive during the crash"
   ]
  },
  {
   "cell_type": "markdown",
   "metadata": {},
   "source": [
    "# Age vs Gender\n",
    "##### An attempt to answere question 3"
   ]
  },
  {
   "cell_type": "code",
   "execution_count": 15,
   "metadata": {
    "collapsed": true
   },
   "outputs": [],
   "source": [
    "\"function to convert a the Sex string to a number with male-->0 and female-->1\"\n",
    "def sex_number(string):\n",
    "    if string == \"male\":\n",
    "        return 1\n",
    "    else:\n",
    "        return 0"
   ]
  },
  {
   "cell_type": "code",
   "execution_count": 16,
   "metadata": {
    "collapsed": false
   },
   "outputs": [
    {
     "data": {
      "image/png": "[encoded data removed]",
      "text/plain": [
       "<matplotlib.figure.Figure at 0x6bac438>"
      ]
     },
     "metadata": {},
     "output_type": "display_data"
    }
   ],
   "source": [
    "\"\"\"Grouping according to the Sex, Age and Survival\"\"\"\n",
    "age_gender_survival_df = file_df[[\"Survived\",\"Age\",\"Sex\"]]\n",
    "age_gender_survival_df = age_gender_survival_df.dropna(axis=0, how=\"any\")\n",
    "age_gender_survival_df[[\"Sex\"]] = age_gender_survival_df[[\"Sex\"]].applymap(sex_number)\n",
    "age_gender_survival_df.head()\n",
    "\n",
    "\"\"\"The relevant plot used to answer the question\"\"\"\n",
    "figs, ax = plt.subplots()\n",
    "rects = ax.scatter(age_gender_survival_df[\"Age\"], age_gender_survival_df[\"Sex\"], c=age_gender_survival_df[\"Survived\"], s=50)\n",
    "ax.set_yticks(age_gender_survival_df[\"Sex\"])\n",
    "ax.set_yticklabels(survived_gender_df[\"Sex\"])\n",
    "ax.set_ylabel('Gender')\n",
    "ax.set_xlabel('Age')\n",
    "ax.set_title('Relation between Age vs Gender vs Survival')\n",
    "plt.show()"
   ]
  },
  {
   "cell_type": "markdown",
   "metadata": {},
   "source": [
    "### Data Cleaning procedure 3\n",
    "For answering the third question the requirement was felt to add an extra variable. This variable represented the numerical categorical value, this was done with an eye for ease of plotting. The age variable also contained 177 missing values which were eliminated using dropna() function of panda data frame"
   ]
  },
  {
   "cell_type": "code",
   "execution_count": 17,
   "metadata": {
    "collapsed": false
   },
   "outputs": [
    {
     "name": "stdout",
     "output_type": "stream",
     "text": [
      "<class 'pandas.core.frame.DataFrame'>\n",
      "Int64Index: 714 entries, 0 to 890\n",
      "Data columns (total 3 columns):\n",
      "Survived    714 non-null int64\n",
      "Age         714 non-null float64\n",
      "Sex         714 non-null int64\n",
      "dtypes: float64(1), int64(2)\n",
      "memory usage: 22.3 KB\n"
     ]
    }
   ],
   "source": [
    "\"\"\"The cleaned dataset had the following charachteristics\"\"\"\n",
    "age_gender_survival_df.info()"
   ]
  },
  {
   "cell_type": "markdown",
   "metadata": {},
   "source": [
    "#### Observation 3:\n",
    "The graph above makes it quite apparent that,\n",
    "1. women in the age group of 15 and above were very likely to survive. The mortality seems to higher for women in children under the age of 15.\n",
    "2. Men showed an opposite trend to women with a very high mortality rate overall, further in men those who survived were disporportionately children under the age of 15."
   ]
  },
  {
   "cell_type": "markdown",
   "metadata": {},
   "source": [
    "# Class and Intra-Class Factor\n",
    "##### An attempt to answer questions 4 and 5"
   ]
  },
  {
   "cell_type": "code",
   "execution_count": 18,
   "metadata": {
    "collapsed": false
   },
   "outputs": [
    {
     "data": {
      "text/html": [
       "<div>\n",
       "<table border=\"1\" class=\"dataframe\">\n",
       "  <thead>\n",
       "    <tr style=\"text-align: right;\">\n",
       "      <th></th>\n",
       "      <th>Survived</th>\n",
       "      <th>Pclass</th>\n",
       "      <th>Counts</th>\n",
       "    </tr>\n",
       "  </thead>\n",
       "  <tbody>\n",
       "    <tr>\n",
       "      <th>0</th>\n",
       "      <td>0</td>\n",
       "      <td>3</td>\n",
       "      <td>1</td>\n",
       "    </tr>\n",
       "    <tr>\n",
       "      <th>1</th>\n",
       "      <td>1</td>\n",
       "      <td>1</td>\n",
       "      <td>1</td>\n",
       "    </tr>\n",
       "    <tr>\n",
       "      <th>2</th>\n",
       "      <td>1</td>\n",
       "      <td>3</td>\n",
       "      <td>1</td>\n",
       "    </tr>\n",
       "    <tr>\n",
       "      <th>3</th>\n",
       "      <td>1</td>\n",
       "      <td>1</td>\n",
       "      <td>1</td>\n",
       "    </tr>\n",
       "    <tr>\n",
       "      <th>4</th>\n",
       "      <td>0</td>\n",
       "      <td>3</td>\n",
       "      <td>1</td>\n",
       "    </tr>\n",
       "  </tbody>\n",
       "</table>\n",
       "</div>"
      ],
      "text/plain": [
       "   Survived  Pclass  Counts\n",
       "0         0       3       1\n",
       "1         1       1       1\n",
       "2         1       3       1\n",
       "3         1       1       1\n",
       "4         0       3       1"
      ]
     },
     "execution_count": 18,
     "metadata": {},
     "output_type": "execute_result"
    }
   ],
   "source": [
    "class_survival_df = file_df[[\"Survived\",\"Pclass\"]]\n",
    "class_survival_df.loc[:,(\"Counts\")] = 1\n",
    "class_survival_df.head()"
   ]
  },
  {
   "cell_type": "code",
   "execution_count": 19,
   "metadata": {
    "collapsed": false
   },
   "outputs": [
    {
     "data": {
      "text/html": [
       "<div>\n",
       "<table border=\"1\" class=\"dataframe\">\n",
       "  <thead>\n",
       "    <tr style=\"text-align: right;\">\n",
       "      <th></th>\n",
       "      <th>Pclass</th>\n",
       "      <th>Survived</th>\n",
       "      <th>Counts</th>\n",
       "    </tr>\n",
       "  </thead>\n",
       "  <tbody>\n",
       "    <tr>\n",
       "      <th>0</th>\n",
       "      <td>1</td>\n",
       "      <td>0</td>\n",
       "      <td>80</td>\n",
       "    </tr>\n",
       "    <tr>\n",
       "      <th>1</th>\n",
       "      <td>1</td>\n",
       "      <td>1</td>\n",
       "      <td>136</td>\n",
       "    </tr>\n",
       "    <tr>\n",
       "      <th>2</th>\n",
       "      <td>2</td>\n",
       "      <td>0</td>\n",
       "      <td>97</td>\n",
       "    </tr>\n",
       "    <tr>\n",
       "      <th>3</th>\n",
       "      <td>2</td>\n",
       "      <td>1</td>\n",
       "      <td>87</td>\n",
       "    </tr>\n",
       "    <tr>\n",
       "      <th>4</th>\n",
       "      <td>3</td>\n",
       "      <td>0</td>\n",
       "      <td>372</td>\n",
       "    </tr>\n",
       "    <tr>\n",
       "      <th>5</th>\n",
       "      <td>3</td>\n",
       "      <td>1</td>\n",
       "      <td>119</td>\n",
       "    </tr>\n",
       "  </tbody>\n",
       "</table>\n",
       "</div>"
      ],
      "text/plain": [
       "   Pclass  Survived  Counts\n",
       "0       1         0      80\n",
       "1       1         1     136\n",
       "2       2         0      97\n",
       "3       2         1      87\n",
       "4       3         0     372\n",
       "5       3         1     119"
      ]
     },
     "execution_count": 19,
     "metadata": {},
     "output_type": "execute_result"
    }
   ],
   "source": [
    "\"\"\"Grouping according to the Passenger Class and Survived column\"\"\"\n",
    "class_survival_grouped = class_survival_df.groupby([\"Pclass\",\"Survived\"], as_index=False)[\"Counts\"].sum()\n",
    "class_survival_grouped"
   ]
  },
  {
   "cell_type": "markdown",
   "metadata": {},
   "source": [
    "### Data Cleaning procedure 4\n",
    "A number of changes were made in the dataset.\n",
    "1. The column for counts was added and then then the dataset was grouped to represent the counts for relevant passenger class and survival code.\n",
    "2. The entire data was then broken down into 3 data frames based on the 3 passenger classes, each containing the variable of Counts and Fare Kind\n",
    "2. An additional column for Fare Kind was added which represents the quartile that the fare lies in for that particular class"
   ]
  },
  {
   "cell_type": "code",
   "execution_count": 20,
   "metadata": {
    "collapsed": false
   },
   "outputs": [
    {
     "name": "stdout",
     "output_type": "stream",
     "text": [
      "<class 'pandas.core.frame.DataFrame'>\n",
      "Int64Index: 6 entries, 0 to 5\n",
      "Data columns (total 3 columns):\n",
      "Pclass      6 non-null int64\n",
      "Survived    6 non-null int64\n",
      "Counts      6 non-null int64\n",
      "dtypes: int64(3)\n",
      "memory usage: 192.0 bytes\n"
     ]
    }
   ],
   "source": [
    "\"\"\"1st change\"\"\"\n",
    "class_survival_grouped.info()"
   ]
  },
  {
   "cell_type": "code",
   "execution_count": 21,
   "metadata": {
    "collapsed": false
   },
   "outputs": [
    {
     "data": {
      "image/png": "[encoded data removed]",
      "text/plain": [
       "<matplotlib.figure.Figure at 0xc235a58>"
      ]
     },
     "metadata": {},
     "output_type": "display_data"
    }
   ],
   "source": [
    "\"\"\"forming new data frames with each containing values of survived and dead counts, this is done for ease of plotting\"\"\"\n",
    "survived_class_df = class_survival_grouped[class_survival_grouped[\"Survived\"] == 1]\n",
    "dead_class_df = class_survival_grouped[class_survival_grouped[\"Survived\"] == 0]\n",
    "\n",
    "\"\"\"Creation of bar plots\"\"\"\n",
    "plot_bar(survived_class_df, dead_class_df)"
   ]
  },
  {
   "cell_type": "markdown",
   "metadata": {},
   "source": [
    "#### Observation 4\n",
    "From the above graph it becomes quite apparent that the highest survival rate was amongst passangers of first class, whereas the mortatlity rate was very high for passengers in third class. The passengers in the second class showed an equal proprtion of those who survived and those who died in th crash."
   ]
  },
  {
   "cell_type": "code",
   "execution_count": 22,
   "metadata": {
    "collapsed": false
   },
   "outputs": [
    {
     "data": {
      "text/html": [
       "<div>\n",
       "<table border=\"1\" class=\"dataframe\">\n",
       "  <thead>\n",
       "    <tr style=\"text-align: right;\">\n",
       "      <th></th>\n",
       "      <th>Pclass</th>\n",
       "      <th>Fare</th>\n",
       "      <th>Survived</th>\n",
       "      <th>Fare Kind</th>\n",
       "      <th>Counts</th>\n",
       "    </tr>\n",
       "  </thead>\n",
       "  <tbody>\n",
       "    <tr>\n",
       "      <th>0</th>\n",
       "      <td>3</td>\n",
       "      <td>7.2500</td>\n",
       "      <td>0</td>\n",
       "      <td>Lowest</td>\n",
       "      <td>1</td>\n",
       "    </tr>\n",
       "    <tr>\n",
       "      <th>2</th>\n",
       "      <td>3</td>\n",
       "      <td>7.9250</td>\n",
       "      <td>1</td>\n",
       "      <td>Low</td>\n",
       "      <td>1</td>\n",
       "    </tr>\n",
       "    <tr>\n",
       "      <th>4</th>\n",
       "      <td>3</td>\n",
       "      <td>8.0500</td>\n",
       "      <td>0</td>\n",
       "      <td>Low</td>\n",
       "      <td>1</td>\n",
       "    </tr>\n",
       "    <tr>\n",
       "      <th>5</th>\n",
       "      <td>3</td>\n",
       "      <td>8.4583</td>\n",
       "      <td>0</td>\n",
       "      <td>Medium</td>\n",
       "      <td>1</td>\n",
       "    </tr>\n",
       "    <tr>\n",
       "      <th>7</th>\n",
       "      <td>3</td>\n",
       "      <td>21.0750</td>\n",
       "      <td>0</td>\n",
       "      <td>high</td>\n",
       "      <td>1</td>\n",
       "    </tr>\n",
       "  </tbody>\n",
       "</table>\n",
       "</div>"
      ],
      "text/plain": [
       "   Pclass     Fare  Survived Fare Kind  Counts\n",
       "0       3   7.2500         0    Lowest       1\n",
       "2       3   7.9250         1       Low       1\n",
       "4       3   8.0500         0       Low       1\n",
       "5       3   8.4583         0    Medium       1\n",
       "7       3  21.0750         0      high       1"
      ]
     },
     "execution_count": 22,
     "metadata": {},
     "output_type": "execute_result"
    }
   ],
   "source": [
    "class_df = file_df[[\"Pclass\",\"Fare\",\"Survived\"]]\n",
    "\"\"\"\"Creating three seperate dataframes or each of the three classes\"\"\"\n",
    "first_class = class_df[class_df[\"Pclass\"]==1]\n",
    "second_class = class_df[class_df[\"Pclass\"]==2]\n",
    "third_class = class_df[class_df[\"Pclass\"]==3]\n",
    "\n",
    "\"\"\"Using the qcut() function of pandas, I am finding the quantile range in which the fare prices in each of the classes falls\n",
    "and then replacing with high, medium, low, lowest\"\"\"\n",
    "first_class.loc[:,(\"Fare Kind\")] =first_class.loc[:,(\"Fare\")]\n",
    "first_class.loc[:,(\"Fare Kind\")] = pd.qcut(first_class[\"Fare Kind\"],[0,0.25,0.5,0.75,1], \\\n",
    "                                           labels=[\"Lowest\",\"Low\",\"Medium\",\"high\"])\n",
    "second_class.loc[:,(\"Fare Kind\")] =second_class.loc[:,(\"Fare\")]\n",
    "second_class.loc[:,(\"Fare Kind\")] = pd.qcut(second_class[\"Fare Kind\"],[0,0.25,0.5,0.75,1], \\\n",
    "                                            labels=[\"Lowest\",\"Low\",\"Medium\",\"high\"])\n",
    "third_class.loc[:,(\"Fare Kind\")] =third_class.loc[:,(\"Fare\")]\n",
    "third_class.loc[:,(\"Fare Kind\")] = pd.qcut(third_class[\"Fare Kind\"],[0,0.25,0.5,0.75,1], \\\n",
    "                                           labels=[\"Lowest\",\"Low\",\"Medium\",\"high\"])\n",
    "\n",
    "first_class.loc[:,(\"Counts\")] = 1\n",
    "second_class.loc[:,(\"Counts\")] = 1\n",
    "third_class.loc[:,(\"Counts\")] = 1\n",
    "\"\"\"\"Look the seond_class data frame to understand what I have done above\"\"\"\n",
    "third_class.head()"
   ]
  },
  {
   "cell_type": "code",
   "execution_count": 23,
   "metadata": {
    "collapsed": false
   },
   "outputs": [
    {
     "name": "stdout",
     "output_type": "stream",
     "text": [
      "<class 'pandas.core.frame.DataFrame'>\n",
      "Int64Index: 491 entries, 0 to 890\n",
      "Data columns (total 5 columns):\n",
      "Pclass       491 non-null int64\n",
      "Fare         491 non-null float64\n",
      "Survived     491 non-null int64\n",
      "Fare Kind    491 non-null category\n",
      "Counts       491 non-null int64\n",
      "dtypes: category(1), float64(1), int64(3)\n",
      "memory usage: 19.7 KB\n"
     ]
    }
   ],
   "source": [
    "\"\"\"2nd change\"\"\"\n",
    "third_class.info()"
   ]
  },
  {
   "cell_type": "code",
   "execution_count": 24,
   "metadata": {
    "collapsed": false
   },
   "outputs": [
    {
     "data": {
      "text/html": [
       "<div>\n",
       "<table border=\"1\" class=\"dataframe\">\n",
       "  <thead>\n",
       "    <tr style=\"text-align: right;\">\n",
       "      <th></th>\n",
       "      <th>Fare Kind</th>\n",
       "      <th>Survived</th>\n",
       "      <th>Counts</th>\n",
       "    </tr>\n",
       "  </thead>\n",
       "  <tbody>\n",
       "    <tr>\n",
       "      <th>1</th>\n",
       "      <td>Lowest</td>\n",
       "      <td>1</td>\n",
       "      <td>29</td>\n",
       "    </tr>\n",
       "    <tr>\n",
       "      <th>3</th>\n",
       "      <td>Low</td>\n",
       "      <td>1</td>\n",
       "      <td>29</td>\n",
       "    </tr>\n",
       "    <tr>\n",
       "      <th>5</th>\n",
       "      <td>Medium</td>\n",
       "      <td>1</td>\n",
       "      <td>27</td>\n",
       "    </tr>\n",
       "    <tr>\n",
       "      <th>7</th>\n",
       "      <td>high</td>\n",
       "      <td>1</td>\n",
       "      <td>34</td>\n",
       "    </tr>\n",
       "  </tbody>\n",
       "</table>\n",
       "</div>"
      ],
      "text/plain": [
       "  Fare Kind  Survived  Counts\n",
       "1    Lowest         1      29\n",
       "3       Low         1      29\n",
       "5    Medium         1      27\n",
       "7      high         1      34"
      ]
     },
     "execution_count": 24,
     "metadata": {},
     "output_type": "execute_result"
    }
   ],
   "source": [
    "first_class_grouped = first_class.groupby([\"Fare Kind\", \"Survived\"]).sum()\n",
    "second_class_grouped = second_class.groupby([\"Fare Kind\", \"Survived\"]).sum()\n",
    "third_class_grouped = third_class.groupby([\"Fare Kind\", \"Survived\"]).sum()\n",
    "\n",
    "first_class_grouped = first_class_grouped[\"Counts\"].reset_index()\n",
    "second_class_grouped = second_class_grouped[\"Counts\"].reset_index()\n",
    "third_class_grouped = third_class_grouped[\"Counts\"].reset_index()\n",
    "\n",
    "\"\"\n",
    "survived_first_class_df = first_class_grouped[first_class_grouped[\"Survived\"] == 1]\n",
    "dead_first_class_df = first_class_grouped[first_class_grouped[\"Survived\"] == 0]\n",
    "survived_second_class_df = second_class_grouped[second_class_grouped[\"Survived\"] == 1]\n",
    "dead_second_class_df = second_class_grouped[first_class_grouped[\"Survived\"] == 0]\n",
    "survived_third_class_df = third_class_grouped[third_class_grouped[\"Survived\"] == 1]\n",
    "dead_third_class_df = third_class_grouped[first_class_grouped[\"Survived\"] == 0]\n",
    "\n",
    "survived_third_class_df.head()"
   ]
  },
  {
   "cell_type": "code",
   "execution_count": 25,
   "metadata": {
    "collapsed": false
   },
   "outputs": [
    {
     "name": "stdout",
     "output_type": "stream",
     "text": [
      "<class 'pandas.core.frame.DataFrame'>\n",
      "Int64Index: 4 entries, 1 to 7\n",
      "Data columns (total 3 columns):\n",
      "Fare Kind    4 non-null category\n",
      "Survived     4 non-null int64\n",
      "Counts       4 non-null int64\n",
      "dtypes: category(1), int64(2)\n",
      "memory usage: 132.0 bytes\n"
     ]
    }
   ],
   "source": [
    "\"\"\"3rd chnage\"\"\"\n",
    "survived_third_class_df.info()"
   ]
  },
  {
   "cell_type": "code",
   "execution_count": 31,
   "metadata": {
    "collapsed": false
   },
   "outputs": [],
   "source": [
    "def plot_bar2(df1,df2,class_num,loc=\"upper left\"):\n",
    "    ind = np.arange(df1.shape[0]) \n",
    "    width = 0.35\n",
    "    fig, ax = plt.subplots()\n",
    "    rects1 = ax.bar(ind, df1[\"Counts\"], width, color='y',align=\"center\")\n",
    "    rects2 = ax.bar(ind+width/2, df2[\"Counts\"], width, color='r')\n",
    "    ax.set_ylabel('Counts')\n",
    "    ax.set_xlabel(list(df1.columns.values)[0])\n",
    "    ax.set_title('Counts of survived or dead based on Fares in '+ class_num + ' class')\n",
    "    ax.set_xticks(ind + width/2)\n",
    "    ax.set_xticklabels(df1.ix[:,0])\n",
    "    ax.legend((rects1[0], rects2[0]), ('Survived', 'Dead'), loc=loc)  "
   ]
  },
  {
   "cell_type": "code",
   "execution_count": 32,
   "metadata": {
    "collapsed": false
   },
   "outputs": [
    {
     "data": {
      "image/png": "[encoded data removed]",
      "text/plain": [
       "<matplotlib.figure.Figure at 0xdac2d30>"
      ]
     },
     "metadata": {},
     "output_type": "display_data"
    },
    {
     "data": {
      "image/png": "[encoded data removed]",
      "text/plain": [
       "<matplotlib.figure.Figure at 0xdac2d68>"
      ]
     },
     "metadata": {},
     "output_type": "display_data"
    },
    {
     "data": {
      "image/png": "[encoded data removed]",
      "text/plain": [
       "<matplotlib.figure.Figure at 0xddf67b8>"
      ]
     },
     "metadata": {},
     "output_type": "display_data"
    }
   ],
   "source": [
    "plot_bar2(survived_first_class_df, dead_first_class_df, \"first\")\n",
    "plot_bar2(survived_second_class_df, dead_second_class_df, \"second\", \"upper right\")\n",
    "plot_bar2(survived_third_class_df, dead_third_class_df, \"third\",\"upper right\")"
   ]
  },
  {
   "cell_type": "markdown",
   "metadata": {},
   "source": [
    "### Observation 5\n",
    "1. The first of the above graphs clearly shows that the survival rate is overall pretty high for the passengers in the first class. Only those first class passengers whoes tickte fares lie in the lowest quartile (for only the first class ticket fares) show more deaths compared to those who survived.\n",
    "2. In the second of the above graphs, for the second class passengers whoes tickets fares lie the top 50 percentile had mortality rate lower than the death rate. The proportion is nearly euqal for passengers in second quartile.\n",
    "3. For the third class passengers, the final graph shows a very unsettling trend, with higher mortality rate across all quartiles and significantly high mortality for the bottom two quartiles."
   ]
  },
  {
   "cell_type": "markdown",
   "metadata": {},
   "source": [
    "### Independent Samples one tailed t-test\n",
    "We shall perform an independent samples t-test to determine if there is a significant difference between the fares for men and women."
   ]
  },
  {
   "cell_type": "code",
   "execution_count": 28,
   "metadata": {
    "collapsed": false
   },
   "outputs": [
    {
     "name": "stdout",
     "output_type": "stream",
     "text": [
      "4.23086787004e-08\n"
     ]
    }
   ],
   "source": [
    "female_fares = file_df[file_df[\"Sex\"]==\"female\"][\"Fare\"]\n",
    "male_fares = file_df[file_df[\"Sex\"]==\"male\"][\"Fare\"]\n",
    "result = stats.ttest_ind(female_fares,male_fares)\n",
    "pvalue = result[1]\n",
    "print pvalue"
   ]
  },
  {
   "cell_type": "markdown",
   "metadata": {},
   "source": [
    "### Observation 6\n",
    "The above performed independent 2-tailed t-test proves that there is indeed a significant difference in the ticket fares of men and women (at 95% significance level). The women on an average possess tickets of much higher value than men do. This reinforces our earlier observations that women on an averge have far lower mortality rate (Observation 2) and further passengers with higher ticket prices have lower mortality rate (Observation 4)."
   ]
  },
  {
   "cell_type": "markdown",
   "metadata": {},
   "source": [
    "# Conclusions"
   ]
  },
  {
   "cell_type": "markdown",
   "metadata": {},
   "source": [
    "Throughout the course of this document I have listed down several observations which narrate the conclusions drawn from the exercises performed above those observations. However, one must be utterly careful in consedering these observations as final causation word.\n",
    "For instance in my final obseration I mentioned that women purchased tickets with higher prices and passengers with higher priced tickets (since higher price corrsponds to higher class) had lower mortality. This by no means indicates that if you buy higher prices tickets you will be safe. A probable reason for such an observation could be that the working crew on the Titanic were disproportionately men (Since a lot of men had 0 fares). Further, one must also remember that during the submergence of Titanic as a gesture of courtesy, valor and chivalry, women were allowed to board the life boards before men were, this couls also be a reason for high survival proportion amon women."
   ]
  }
 ],
 "metadata": {
  "kernelspec": {
   "display_name": "Python 2",
   "language": "python",
   "name": "python2"
  },
  "language_info": {
   "codemirror_mode": {
    "name": "ipython",
    "version": 2
   },
   "file_extension": ".py",
   "mimetype": "text/x-python",
   "name": "python",
   "nbconvert_exporter": "python",
   "pygments_lexer": "ipython2",
   "version": "2.7.11"
  }
 },
 "nbformat": 4,
 "nbformat_minor": 0
}
